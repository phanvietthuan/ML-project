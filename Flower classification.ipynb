{
 "cells": [
  {
   "cell_type": "code",
   "execution_count": 3,
   "id": "a9525400",
   "metadata": {},
   "outputs": [],
   "source": [
    "###Import thư viện\n",
    "\n",
    "import numpy as np\n",
    "import pandas as pd\n",
    "import matplotlib.pyplot as plt\n",
    "\n",
    "from sklearn.model_selection import train_test_split"
   ]
  },
  {
   "cell_type": "markdown",
   "id": "fe7541fd",
   "metadata": {},
   "source": [
    "## 1. Nhập dữ liệu"
   ]
  },
  {
   "cell_type": "code",
   "execution_count": 7,
   "id": "408a4ad1",
   "metadata": {},
   "outputs": [
    {
     "data": {
      "text/html": [
       "<div>\n",
       "<style scoped>\n",
       "    .dataframe tbody tr th:only-of-type {\n",
       "        vertical-align: middle;\n",
       "    }\n",
       "\n",
       "    .dataframe tbody tr th {\n",
       "        vertical-align: top;\n",
       "    }\n",
       "\n",
       "    .dataframe thead th {\n",
       "        text-align: right;\n",
       "    }\n",
       "</style>\n",
       "<table border=\"1\" class=\"dataframe\">\n",
       "  <thead>\n",
       "    <tr style=\"text-align: right;\">\n",
       "      <th></th>\n",
       "      <th>sepallength</th>\n",
       "      <th>sepalwidth</th>\n",
       "      <th>petallength</th>\n",
       "      <th>petalwidth</th>\n",
       "      <th>name</th>\n",
       "    </tr>\n",
       "  </thead>\n",
       "  <tbody>\n",
       "    <tr>\n",
       "      <th>0</th>\n",
       "      <td>5.1</td>\n",
       "      <td>3.5</td>\n",
       "      <td>1.4</td>\n",
       "      <td>0.2</td>\n",
       "      <td>Iris-setosa</td>\n",
       "    </tr>\n",
       "    <tr>\n",
       "      <th>1</th>\n",
       "      <td>4.9</td>\n",
       "      <td>3.0</td>\n",
       "      <td>1.4</td>\n",
       "      <td>0.2</td>\n",
       "      <td>Iris-setosa</td>\n",
       "    </tr>\n",
       "    <tr>\n",
       "      <th>2</th>\n",
       "      <td>4.7</td>\n",
       "      <td>3.2</td>\n",
       "      <td>1.3</td>\n",
       "      <td>0.2</td>\n",
       "      <td>Iris-setosa</td>\n",
       "    </tr>\n",
       "    <tr>\n",
       "      <th>3</th>\n",
       "      <td>4.6</td>\n",
       "      <td>3.1</td>\n",
       "      <td>1.5</td>\n",
       "      <td>0.2</td>\n",
       "      <td>Iris-setosa</td>\n",
       "    </tr>\n",
       "    <tr>\n",
       "      <th>4</th>\n",
       "      <td>5.0</td>\n",
       "      <td>3.6</td>\n",
       "      <td>1.4</td>\n",
       "      <td>0.2</td>\n",
       "      <td>Iris-setosa</td>\n",
       "    </tr>\n",
       "    <tr>\n",
       "      <th>...</th>\n",
       "      <td>...</td>\n",
       "      <td>...</td>\n",
       "      <td>...</td>\n",
       "      <td>...</td>\n",
       "      <td>...</td>\n",
       "    </tr>\n",
       "    <tr>\n",
       "      <th>145</th>\n",
       "      <td>6.7</td>\n",
       "      <td>3.0</td>\n",
       "      <td>5.2</td>\n",
       "      <td>2.3</td>\n",
       "      <td>Iris-virginica</td>\n",
       "    </tr>\n",
       "    <tr>\n",
       "      <th>146</th>\n",
       "      <td>6.3</td>\n",
       "      <td>2.5</td>\n",
       "      <td>5.0</td>\n",
       "      <td>1.9</td>\n",
       "      <td>Iris-virginica</td>\n",
       "    </tr>\n",
       "    <tr>\n",
       "      <th>147</th>\n",
       "      <td>6.5</td>\n",
       "      <td>3.0</td>\n",
       "      <td>5.2</td>\n",
       "      <td>2.0</td>\n",
       "      <td>Iris-virginica</td>\n",
       "    </tr>\n",
       "    <tr>\n",
       "      <th>148</th>\n",
       "      <td>6.2</td>\n",
       "      <td>3.4</td>\n",
       "      <td>5.4</td>\n",
       "      <td>2.3</td>\n",
       "      <td>Iris-virginica</td>\n",
       "    </tr>\n",
       "    <tr>\n",
       "      <th>149</th>\n",
       "      <td>5.9</td>\n",
       "      <td>3.0</td>\n",
       "      <td>5.1</td>\n",
       "      <td>1.8</td>\n",
       "      <td>Iris-virginica</td>\n",
       "    </tr>\n",
       "  </tbody>\n",
       "</table>\n",
       "<p>150 rows × 5 columns</p>\n",
       "</div>"
      ],
      "text/plain": [
       "     sepallength  sepalwidth  petallength  petalwidth            name\n",
       "0            5.1         3.5          1.4         0.2     Iris-setosa\n",
       "1            4.9         3.0          1.4         0.2     Iris-setosa\n",
       "2            4.7         3.2          1.3         0.2     Iris-setosa\n",
       "3            4.6         3.1          1.5         0.2     Iris-setosa\n",
       "4            5.0         3.6          1.4         0.2     Iris-setosa\n",
       "..           ...         ...          ...         ...             ...\n",
       "145          6.7         3.0          5.2         2.3  Iris-virginica\n",
       "146          6.3         2.5          5.0         1.9  Iris-virginica\n",
       "147          6.5         3.0          5.2         2.0  Iris-virginica\n",
       "148          6.2         3.4          5.4         2.3  Iris-virginica\n",
       "149          5.9         3.0          5.1         1.8  Iris-virginica\n",
       "\n",
       "[150 rows x 5 columns]"
      ]
     },
     "execution_count": 7,
     "metadata": {},
     "output_type": "execute_result"
    }
   ],
   "source": [
    "df = pd.read_csv('data_iris.csv')\n",
    "df"
   ]
  },
  {
   "cell_type": "markdown",
   "id": "c3480fab",
   "metadata": {},
   "source": [
    "***\n",
    "### Tách giữ liệu và phân loại dữ liệu"
   ]
  },
  {
   "cell_type": "code",
   "execution_count": 8,
   "id": "e72965ec",
   "metadata": {},
   "outputs": [],
   "source": [
    "# X1 = df[[\"sepallength\",\"sepalwidth\",\"petallength\",\"petalwidth\"]]\n",
    "\n",
    "X = np.array(df.iloc[:,0:4]) #get column sepallength \tsepalwidth \tpetallength \tpetalwidth\n",
    "\n",
    "# Y = np.array(df.name) # get column name\n",
    "\n",
    "Y = df['name']\n",
    "\n",
    "Y1 = df['name']\n",
    "# y2 = pd.Categorical(df['name']).codes"
   ]
  },
  {
   "cell_type": "code",
   "execution_count": 9,
   "id": "13ec61ce",
   "metadata": {},
   "outputs": [
    {
     "data": {
      "text/plain": [
       "array(['Iris-setosa', 'Iris-versicolor', 'Iris-virginica'], dtype=object)"
      ]
     },
     "execution_count": 9,
     "metadata": {},
     "output_type": "execute_result"
    }
   ],
   "source": [
    "df['name'].unique()"
   ]
  },
  {
   "cell_type": "code",
   "execution_count": 10,
   "id": "c00c4ec6",
   "metadata": {},
   "outputs": [
    {
     "data": {
      "text/plain": [
       "Iris-setosa        50\n",
       "Iris-versicolor    50\n",
       "Iris-virginica     50\n",
       "Name: name, dtype: int64"
      ]
     },
     "execution_count": 10,
     "metadata": {},
     "output_type": "execute_result"
    }
   ],
   "source": [
    "Y.value_counts()"
   ]
  },
  {
   "cell_type": "markdown",
   "id": "7e2b6902",
   "metadata": {},
   "source": [
    "***\n",
    "#### Chuyển nhãn hoa sang số nguyên"
   ]
  },
  {
   "cell_type": "code",
   "execution_count": 11,
   "id": "01adec55",
   "metadata": {},
   "outputs": [],
   "source": [
    "from sklearn.preprocessing import LabelEncoder\n",
    "\n",
    "le = LabelEncoder()\n",
    "\n",
    "# chuyển đổi name hoa sang số nguyên\n",
    "Y = le.fit_transform(Y)\n",
    "\n",
    "# Y1 = le.transform(Y1)"
   ]
  },
  {
   "cell_type": "code",
   "execution_count": 12,
   "id": "ea6ca304",
   "metadata": {},
   "outputs": [
    {
     "data": {
      "text/plain": [
       "array([0, 0, 0, 0, 0, 0, 0, 0, 0, 0, 0, 0, 0, 0, 0, 0, 0, 0, 0, 0, 0, 0,\n",
       "       0, 0, 0, 0, 0, 0, 0, 0, 0, 0, 0, 0, 0, 0, 0, 0, 0, 0, 0, 0, 0, 0,\n",
       "       0, 0, 0, 0, 0, 0, 1, 1, 1, 1, 1, 1, 1, 1, 1, 1, 1, 1, 1, 1, 1, 1,\n",
       "       1, 1, 1, 1, 1, 1, 1, 1, 1, 1, 1, 1, 1, 1, 1, 1, 1, 1, 1, 1, 1, 1,\n",
       "       1, 1, 1, 1, 1, 1, 1, 1, 1, 1, 1, 1, 2, 2, 2, 2, 2, 2, 2, 2, 2, 2,\n",
       "       2, 2, 2, 2, 2, 2, 2, 2, 2, 2, 2, 2, 2, 2, 2, 2, 2, 2, 2, 2, 2, 2,\n",
       "       2, 2, 2, 2, 2, 2, 2, 2, 2, 2, 2, 2, 2, 2, 2, 2, 2, 2])"
      ]
     },
     "execution_count": 12,
     "metadata": {},
     "output_type": "execute_result"
    }
   ],
   "source": [
    "# kết quả sau khi chuyển nhãn hoa sang số nguyên\n",
    "Y"
   ]
  },
  {
   "cell_type": "code",
   "execution_count": 13,
   "id": "185ac327",
   "metadata": {},
   "outputs": [
    {
     "data": {
      "text/plain": [
       "Text(0.5, 1.0, 'Petal')"
      ]
     },
     "execution_count": 13,
     "metadata": {},
     "output_type": "execute_result"
    },
    {
     "data": {
      "image/png": "[encoded data removed]",
      "text/plain": [
       "<Figure size 720x360 with 2 Axes>"
      ]
     },
     "metadata": {
      "needs_background": "light"
     },
     "output_type": "display_data"
    }
   ],
   "source": [
    "fig, ((ax1,ax2)) = plt.subplots(nrows=1,\n",
    "                              ncols=2,\n",
    "                              figsize=(10,5))\n",
    "\n",
    "ax1.scatter(X[:,0:1],X[:,2:3])\n",
    "\n",
    "ax2.scatter(X[:,1:2],X[:,3:4]);\n",
    "\n",
    "ax1.set_title('Sepal')\n",
    "\n",
    "ax2.set_title('Petal')"
   ]
  },
  {
   "cell_type": "code",
   "execution_count": 14,
   "id": "4f3477e1",
   "metadata": {},
   "outputs": [],
   "source": [
    "X_train, X_test, Y_train, Y_test = train_test_split(X, Y, train_size=0.7, test_size=0.3, random_state=0)"
   ]
  },
  {
   "cell_type": "markdown",
   "id": "4e83a77d",
   "metadata": {},
   "source": [
    "***\n",
    "## 2. Cho thuật toán train"
   ]
  },
  {
   "cell_type": "code",
   "execution_count": 15,
   "id": "72e316ad",
   "metadata": {},
   "outputs": [
    {
     "name": "stdout",
     "output_type": "stream",
     "text": [
      "Tìm centers: \n",
      "[[6.909375   3.1        5.728125   2.0625    ]\n",
      " [4.99411765 3.38235294 1.45294118 0.22941176]\n",
      " [5.84358974 2.70512821 4.34102564 1.41025641]]\n",
      "[2 0 0 2 0 2 0 2 2 2 2 2 2 0 0 2 1 2 2 2 2 2 0 1 1 0 2 1 1 0 1 2 2 1 2 0 2\n",
      " 1 0 0 0 0 1 1 0 0 1 0 1 2 0 1 1 0 1 1 1 2 0 0 1 1 1 2 2 1 1 2 1 0 2 0 2 1\n",
      " 2 1 0 1 1 0 1 0 2 2 2 0 0 2 0 1 2 0 2 1 2 2 2 2 1 1 1 0 2 0 1]\n"
     ]
    }
   ],
   "source": [
    "from sklearn.cluster import KMeans\n",
    "\n",
    "kmeans = KMeans(n_clusters = 3, random_state= 0)\n",
    "kmeans.fit(X_train)\n",
    "\n",
    "res = pd.Series(kmeans.labels_)\n",
    "\n",
    "print('Tìm centers: ')\n",
    "print(kmeans.cluster_centers_)\n",
    "\n",
    "# print(kmeans.labels_)\n",
    "\n",
    "pred_label = kmeans.predict(X_train)\n",
    "\n",
    "res = pd.Series(pred_label)\n",
    "print(pred_label)"
   ]
  },
  {
   "cell_type": "markdown",
   "id": "37088cec",
   "metadata": {},
   "source": [
    "****\n",
    "## Test với 1 điểm dữ liệu trong tập test"
   ]
  },
  {
   "cell_type": "code",
   "execution_count": 16,
   "id": "d037b912",
   "metadata": {},
   "outputs": [
    {
     "name": "stdout",
     "output_type": "stream",
     "text": [
      "Điểm dữ liệu test trong tập test: [[6.  2.2 4.  1. ]]\n",
      "Kết quả dự đoán: [2]\n"
     ]
    }
   ],
   "source": [
    "print('Điểm dữ liệu test trong tập test:',X_test[1:2])\n",
    "\n",
    "print('Kết quả dự đoán:',kmeans.predict(X_test[1:2]))"
   ]
  },
  {
   "cell_type": "code",
   "execution_count": 17,
   "id": "94a62450",
   "metadata": {},
   "outputs": [
    {
     "name": "stdout",
     "output_type": "stream",
     "text": [
      "[0] Iris-setosa        17\n",
      "Iris-versicolor    13\n",
      "Iris-virginica      2\n",
      "Name: name, dtype: int64\n",
      "[1] Iris-versicolor    20\n",
      "Iris-setosa        12\n",
      "Iris-virginica      2\n",
      "Name: name, dtype: int64\n",
      "[2] Iris-setosa        21\n",
      "Iris-versicolor    17\n",
      "Iris-virginica      1\n",
      "Name: name, dtype: int64\n"
     ]
    }
   ],
   "source": [
    "for i in range(3):\n",
    "    print([i],Y1[:105][res==i].value_counts())"
   ]
  },
  {
   "cell_type": "code",
   "execution_count": 18,
   "id": "05248957",
   "metadata": {},
   "outputs": [],
   "source": [
    "learnedLabel = ['Iris-setosa','Iris-versicolor','Iris-setosa']"
   ]
  },
  {
   "cell_type": "code",
   "execution_count": 19,
   "id": "c70745bf",
   "metadata": {},
   "outputs": [
    {
     "name": "stdout",
     "output_type": "stream",
     "text": [
      "Cluster 2: 'Iris-setosa'\n"
     ]
    }
   ],
   "source": [
    "predCluster = kmeans.predict(X_test)[0]\n",
    "\n",
    "print(\"Cluster {}: '{}'\".format(predCluster, learnedLabel[predCluster]))"
   ]
  },
  {
   "cell_type": "code",
   "execution_count": 20,
   "id": "2ee10510",
   "metadata": {},
   "outputs": [
    {
     "data": {
      "text/plain": [
       "0         Iris-setosa\n",
       "1         Iris-setosa\n",
       "2         Iris-setosa\n",
       "3         Iris-setosa\n",
       "4         Iris-setosa\n",
       "            ...      \n",
       "100    Iris-virginica\n",
       "101    Iris-virginica\n",
       "102    Iris-virginica\n",
       "103    Iris-virginica\n",
       "104    Iris-virginica\n",
       "Name: name, Length: 105, dtype: object"
      ]
     },
     "execution_count": 20,
     "metadata": {},
     "output_type": "execute_result"
    }
   ],
   "source": [
    "Y1[:105]"
   ]
  },
  {
   "cell_type": "code",
   "execution_count": 21,
   "id": "e9d47edb",
   "metadata": {},
   "outputs": [
    {
     "name": "stdout",
     "output_type": "stream",
     "text": [
      "[0      False\n",
      "1       True\n",
      "2       True\n",
      "3      False\n",
      "4       True\n",
      "       ...  \n",
      "100    False\n",
      "101     True\n",
      "102    False\n",
      "103     True\n",
      "104    False\n",
      "Length: 105, dtype: bool]\n"
     ]
    }
   ],
   "source": [
    "count = sum([res==0])\n",
    "print([res==0])"
   ]
  },
  {
   "cell_type": "markdown",
   "id": "864a7322",
   "metadata": {},
   "source": [
    "***\n",
    "## Test với tập data test"
   ]
  },
  {
   "cell_type": "code",
   "execution_count": 22,
   "id": "52c5bbf2",
   "metadata": {},
   "outputs": [
    {
     "name": "stdout",
     "output_type": "stream",
     "text": [
      "[2 2 1 0 1 0 1 2 2 2 0 2 2 2 2 1 2 2 1 1 2 2 1 1 2 1 1 2 2 1 0 2 1 2 0 2 1\n",
      " 2 2 2 0 1 0 1 1]\n"
     ]
    }
   ],
   "source": [
    "pred = kmeans.predict(X_test)\n",
    "print(pred)"
   ]
  },
  {
   "cell_type": "code",
   "execution_count": 23,
   "id": "0d02f1b6",
   "metadata": {},
   "outputs": [
    {
     "name": "stdout",
     "output_type": "stream",
     "text": [
      "Số điểm dự đoán chính xác: 10\n"
     ]
    }
   ],
   "source": [
    "CorrectLabels = sum(Y_train == pred_label)\n",
    "\n",
    "print('Số điểm dự đoán chính xác:',CorrectLabels)"
   ]
  },
  {
   "cell_type": "markdown",
   "id": "1315c271",
   "metadata": {},
   "source": [
    "***\n",
    "### Test độ chính xác của thực toán"
   ]
  },
  {
   "cell_type": "code",
   "execution_count": 24,
   "id": "509cf9ba",
   "metadata": {},
   "outputs": [
    {
     "name": "stdout",
     "output_type": "stream",
     "text": [
      "Kết quả: 10 so với 105 mẫu đã được đánh nhãn chính xác\n"
     ]
    }
   ],
   "source": [
    "correct_labels = sum(Y_train == pred_label)\n",
    "\n",
    "print(\"Kết quả: %d so với %d mẫu đã được đánh nhãn chính xác\" % (correct_labels, Y_train.size))"
   ]
  },
  {
   "cell_type": "code",
   "execution_count": 25,
   "id": "5289a2d2",
   "metadata": {},
   "outputs": [
    {
     "name": "stdout",
     "output_type": "stream",
     "text": [
      "Độ chính xác: 0.10\n"
     ]
    }
   ],
   "source": [
    "print('Độ chính xác: {0:0.2f}'. format(correct_labels/float(Y_train.size)))"
   ]
  },
  {
   "cell_type": "markdown",
   "id": "d389041a",
   "metadata": {},
   "source": [
    "***\n",
    "## Vẽ đồ thị biểu diễn"
   ]
  },
  {
   "cell_type": "code",
   "execution_count": 26,
   "id": "6ed8ab45",
   "metadata": {},
   "outputs": [
    {
     "data": {
      "image/png": "[encoded data removed]",
      "text/plain": [
       "<Figure size 1080x360 with 2 Axes>"
      ]
     },
     "metadata": {
      "needs_background": "light"
     },
     "output_type": "display_data"
    }
   ],
   "source": [
    "\n",
    "fig,((ax1,ax2)) = plt.subplots(nrows=1,ncols=2,figsize=(15,5))\n",
    "for i in range(len(X_train)):\n",
    "    if pred_label[i] == 0: color = 'blue'\n",
    "    elif pred_label[i] == 1: color = 'pink'\n",
    "    elif pred_label[i] == 2: color = 'green'\n",
    "\n",
    "    ax1.scatter(X_train[:, 1:2][i], X_train[:, 0:1][i], c=color, alpha=0.6)\n",
    "    ax2.scatter(X_train[:, 3:4][i], X_train[:, 2:3][i], c=color, alpha=0.6)\n",
    "#     plt.scatter(kmeans.cluster_centers_[:, 0:1], kmeans.cluster_centers_[:, 1:2], c='red', marker='^')\n",
    "#     plt.scatter([4], [5], c='purple', marker='s')\n",
    "\n",
    "ax1.set_title('Sepal')\n",
    "ax2.set_title('Petal')\n",
    "\n",
    "ax1.set_xlabel('Sepalwidth')\n",
    "ax1.set_ylabel('SepalLenght')\n",
    "\n",
    "ax2.set_xlabel('PetalWidth')\n",
    "ax2.set_ylabel('PetalLenght')\n",
    "\n",
    "plt.show()"
   ]
  },
  {
   "cell_type": "code",
   "execution_count": null,
   "id": "56fc5675",
   "metadata": {},
   "outputs": [],
   "source": []
  }
 ],
 "metadata": {
  "kernelspec": {
   "display_name": "Python 3 (ipykernel)",
   "language": "python",
   "name": "python3"
  },
  "language_info": {
   "codemirror_mode": {
    "name": "ipython",
    "version": 3
   },
   "file_extension": ".py",
   "mimetype": "text/x-python",
   "name": "python",
   "nbconvert_exporter": "python",
   "pygments_lexer": "ipython3",
   "version": "3.9.7"
  }
 },
 "nbformat": 4,
 "nbformat_minor": 5
}
